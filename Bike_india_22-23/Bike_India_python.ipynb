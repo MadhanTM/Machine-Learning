{
 "cells": [
  {
   "cell_type": "code",
   "execution_count": 35,
   "id": "19672d4d",
   "metadata": {},
   "outputs": [],
   "source": [
    "import numpy as  np\n",
    "import pandas as pd\n",
    "import matplotlib.pyplot as plt\n",
    "import seaborn as sns\n",
    "\n",
    "import warnings\n",
    "warnings.filterwarnings('ignore')"
   ]
  },
  {
   "cell_type": "code",
   "execution_count": 36,
   "id": "4d412fe8",
   "metadata": {},
   "outputs": [],
   "source": [
    "df = pd.read_csv('bike_dataset.csv')"
   ]
  },
  {
   "cell_type": "code",
   "execution_count": 37,
   "id": "64c218dc",
   "metadata": {},
   "outputs": [
    {
     "data": {
      "text/html": [
       "<div>\n",
       "<style scoped>\n",
       "    .dataframe tbody tr th:only-of-type {\n",
       "        vertical-align: middle;\n",
       "    }\n",
       "\n",
       "    .dataframe tbody tr th {\n",
       "        vertical-align: top;\n",
       "    }\n",
       "\n",
       "    .dataframe thead th {\n",
       "        text-align: right;\n",
       "    }\n",
       "</style>\n",
       "<table border=\"1\" class=\"dataframe\">\n",
       "  <thead>\n",
       "    <tr style=\"text-align: right;\">\n",
       "      <th></th>\n",
       "      <th>model_name</th>\n",
       "      <th>price</th>\n",
       "      <th>CC</th>\n",
       "      <th>mileage</th>\n",
       "      <th>type_of_bike</th>\n",
       "      <th>weight_in_kg</th>\n",
       "      <th>links</th>\n",
       "      <th>acceleration_speed</th>\n",
       "      <th>top_speed</th>\n",
       "    </tr>\n",
       "  </thead>\n",
       "  <tbody>\n",
       "    <tr>\n",
       "      <th>0</th>\n",
       "      <td>Gravton Motors Quanta</td>\n",
       "      <td>99000</td>\n",
       "      <td>NaN</td>\n",
       "      <td>320.0</td>\n",
       "      <td>Electric Bike</td>\n",
       "      <td>100</td>\n",
       "      <td>https://www.carandbike.com/gravton-motors-bike...</td>\n",
       "      <td>4.2</td>\n",
       "      <td>70.0</td>\n",
       "    </tr>\n",
       "    <tr>\n",
       "      <th>1</th>\n",
       "      <td>Simple Energy One</td>\n",
       "      <td>109999</td>\n",
       "      <td>NaN</td>\n",
       "      <td>236.0</td>\n",
       "      <td>Electric Bike</td>\n",
       "      <td>110</td>\n",
       "      <td>https://www.carandbike.com/simple-energy-bikes...</td>\n",
       "      <td>3.6</td>\n",
       "      <td>100.0</td>\n",
       "    </tr>\n",
       "    <tr>\n",
       "      <th>2</th>\n",
       "      <td>Okaya Classiq</td>\n",
       "      <td>69900</td>\n",
       "      <td>NaN</td>\n",
       "      <td>200.0</td>\n",
       "      <td>Electric Bike</td>\n",
       "      <td>95</td>\n",
       "      <td>https://www.carandbike.com/okaya-bikes/classiq</td>\n",
       "      <td>NaN</td>\n",
       "      <td>25.0</td>\n",
       "    </tr>\n",
       "    <tr>\n",
       "      <th>3</th>\n",
       "      <td>Oben Electric Rorr</td>\n",
       "      <td>102999</td>\n",
       "      <td>NaN</td>\n",
       "      <td>200.0</td>\n",
       "      <td>Electric Bike</td>\n",
       "      <td>120</td>\n",
       "      <td>https://www.carandbike.com/oben-electric-bikes...</td>\n",
       "      <td>3.0</td>\n",
       "      <td>100.0</td>\n",
       "    </tr>\n",
       "    <tr>\n",
       "      <th>4</th>\n",
       "      <td>Ola Electric S1</td>\n",
       "      <td>85099</td>\n",
       "      <td>NaN</td>\n",
       "      <td>181.0</td>\n",
       "      <td>Electric Bike</td>\n",
       "      <td>121</td>\n",
       "      <td>https://www.carandbike.com/ola-electric-bikes/s1</td>\n",
       "      <td>2.9</td>\n",
       "      <td>116.0</td>\n",
       "    </tr>\n",
       "  </tbody>\n",
       "</table>\n",
       "</div>"
      ],
      "text/plain": [
       "              model_name   price  CC  mileage   type_of_bike  weight_in_kg  \\\n",
       "0  Gravton Motors Quanta   99000 NaN    320.0  Electric Bike           100   \n",
       "1      Simple Energy One  109999 NaN    236.0  Electric Bike           110   \n",
       "2          Okaya Classiq   69900 NaN    200.0  Electric Bike            95   \n",
       "3     Oben Electric Rorr  102999 NaN    200.0  Electric Bike           120   \n",
       "4        Ola Electric S1   85099 NaN    181.0  Electric Bike           121   \n",
       "\n",
       "                                               links  acceleration_speed  \\\n",
       "0  https://www.carandbike.com/gravton-motors-bike...                 4.2   \n",
       "1  https://www.carandbike.com/simple-energy-bikes...                 3.6   \n",
       "2     https://www.carandbike.com/okaya-bikes/classiq                 NaN   \n",
       "3  https://www.carandbike.com/oben-electric-bikes...                 3.0   \n",
       "4   https://www.carandbike.com/ola-electric-bikes/s1                 2.9   \n",
       "\n",
       "   top_speed  \n",
       "0       70.0  \n",
       "1      100.0  \n",
       "2       25.0  \n",
       "3      100.0  \n",
       "4      116.0  "
      ]
     },
     "execution_count": 37,
     "metadata": {},
     "output_type": "execute_result"
    }
   ],
   "source": [
    "df.head(5)"
   ]
  },
  {
   "cell_type": "code",
   "execution_count": 38,
   "id": "3c20fe1c",
   "metadata": {},
   "outputs": [
    {
     "name": "stdout",
     "output_type": "stream",
     "text": [
      "<class 'pandas.core.frame.DataFrame'>\n",
      "RangeIndex: 361 entries, 0 to 360\n",
      "Data columns (total 9 columns):\n",
      " #   Column              Non-Null Count  Dtype  \n",
      "---  ------              --------------  -----  \n",
      " 0   model_name          361 non-null    object \n",
      " 1   price               361 non-null    int64  \n",
      " 2   CC                  304 non-null    float64\n",
      " 3   mileage             361 non-null    float64\n",
      " 4   type_of_bike        361 non-null    object \n",
      " 5   weight_in_kg        361 non-null    int64  \n",
      " 6   links               361 non-null    object \n",
      " 7   acceleration_speed  170 non-null    float64\n",
      " 8   top_speed           200 non-null    float64\n",
      "dtypes: float64(4), int64(2), object(3)\n",
      "memory usage: 25.5+ KB\n"
     ]
    }
   ],
   "source": [
    "df.info()"
   ]
  },
  {
   "cell_type": "code",
   "execution_count": 39,
   "id": "545e206f",
   "metadata": {},
   "outputs": [],
   "source": [
    "df['type_of_bike']=df['type_of_bike'].astype('category')"
   ]
  },
  {
   "cell_type": "code",
   "execution_count": 40,
   "id": "26b1ce68",
   "metadata": {},
   "outputs": [
    {
     "data": {
      "text/html": [
       "<div>\n",
       "<style scoped>\n",
       "    .dataframe tbody tr th:only-of-type {\n",
       "        vertical-align: middle;\n",
       "    }\n",
       "\n",
       "    .dataframe tbody tr th {\n",
       "        vertical-align: top;\n",
       "    }\n",
       "\n",
       "    .dataframe thead th {\n",
       "        text-align: right;\n",
       "    }\n",
       "</style>\n",
       "<table border=\"1\" class=\"dataframe\">\n",
       "  <thead>\n",
       "    <tr style=\"text-align: right;\">\n",
       "      <th></th>\n",
       "      <th>price</th>\n",
       "      <th>CC</th>\n",
       "      <th>mileage</th>\n",
       "      <th>weight_in_kg</th>\n",
       "      <th>acceleration_speed</th>\n",
       "      <th>top_speed</th>\n",
       "    </tr>\n",
       "  </thead>\n",
       "  <tbody>\n",
       "    <tr>\n",
       "      <th>count</th>\n",
       "      <td>361.00</td>\n",
       "      <td>304.00</td>\n",
       "      <td>361.00</td>\n",
       "      <td>361.00</td>\n",
       "      <td>170.00</td>\n",
       "      <td>200.00</td>\n",
       "    </tr>\n",
       "    <tr>\n",
       "      <th>mean</th>\n",
       "      <td>839907.94</td>\n",
       "      <td>680.97</td>\n",
       "      <td>44.68</td>\n",
       "      <td>178.84</td>\n",
       "      <td>4.19</td>\n",
       "      <td>99.34</td>\n",
       "    </tr>\n",
       "    <tr>\n",
       "      <th>std</th>\n",
       "      <td>1052082.76</td>\n",
       "      <td>547.74</td>\n",
       "      <td>39.89</td>\n",
       "      <td>73.84</td>\n",
       "      <td>2.37</td>\n",
       "      <td>39.63</td>\n",
       "    </tr>\n",
       "    <tr>\n",
       "      <th>min</th>\n",
       "      <td>38000.00</td>\n",
       "      <td>87.80</td>\n",
       "      <td>8.00</td>\n",
       "      <td>55.00</td>\n",
       "      <td>1.01</td>\n",
       "      <td>25.00</td>\n",
       "    </tr>\n",
       "    <tr>\n",
       "      <th>25%</th>\n",
       "      <td>100000.00</td>\n",
       "      <td>164.42</td>\n",
       "      <td>20.00</td>\n",
       "      <td>118.00</td>\n",
       "      <td>2.80</td>\n",
       "      <td>79.50</td>\n",
       "    </tr>\n",
       "    <tr>\n",
       "      <th>50%</th>\n",
       "      <td>242000.00</td>\n",
       "      <td>618.00</td>\n",
       "      <td>30.00</td>\n",
       "      <td>169.00</td>\n",
       "      <td>3.22</td>\n",
       "      <td>100.00</td>\n",
       "    </tr>\n",
       "    <tr>\n",
       "      <th>75%</th>\n",
       "      <td>1459000.00</td>\n",
       "      <td>1051.50</td>\n",
       "      <td>55.00</td>\n",
       "      <td>216.00</td>\n",
       "      <td>5.07</td>\n",
       "      <td>129.12</td>\n",
       "    </tr>\n",
       "    <tr>\n",
       "      <th>max</th>\n",
       "      <td>7990000.00</td>\n",
       "      <td>2458.00</td>\n",
       "      <td>320.00</td>\n",
       "      <td>433.00</td>\n",
       "      <td>13.80</td>\n",
       "      <td>200.00</td>\n",
       "    </tr>\n",
       "  </tbody>\n",
       "</table>\n",
       "</div>"
      ],
      "text/plain": [
       "            price       CC  mileage  weight_in_kg  acceleration_speed  \\\n",
       "count      361.00   304.00   361.00        361.00              170.00   \n",
       "mean    839907.94   680.97    44.68        178.84                4.19   \n",
       "std    1052082.76   547.74    39.89         73.84                2.37   \n",
       "min      38000.00    87.80     8.00         55.00                1.01   \n",
       "25%     100000.00   164.42    20.00        118.00                2.80   \n",
       "50%     242000.00   618.00    30.00        169.00                3.22   \n",
       "75%    1459000.00  1051.50    55.00        216.00                5.07   \n",
       "max    7990000.00  2458.00   320.00        433.00               13.80   \n",
       "\n",
       "       top_speed  \n",
       "count     200.00  \n",
       "mean       99.34  \n",
       "std        39.63  \n",
       "min        25.00  \n",
       "25%        79.50  \n",
       "50%       100.00  \n",
       "75%       129.12  \n",
       "max       200.00  "
      ]
     },
     "execution_count": 40,
     "metadata": {},
     "output_type": "execute_result"
    }
   ],
   "source": [
    "df.describe().round(2)"
   ]
  },
  {
   "cell_type": "code",
   "execution_count": 41,
   "id": "a9e1da89",
   "metadata": {
    "scrolled": true
   },
   "outputs": [
    {
     "data": {
      "text/plain": [
       "model_name              0\n",
       "price                   0\n",
       "CC                     57\n",
       "mileage                 0\n",
       "type_of_bike            0\n",
       "weight_in_kg            0\n",
       "links                   0\n",
       "acceleration_speed    191\n",
       "top_speed             161\n",
       "dtype: int64"
      ]
     },
     "execution_count": 41,
     "metadata": {},
     "output_type": "execute_result"
    }
   ],
   "source": [
    "df.isna().sum()"
   ]
  },
  {
   "cell_type": "code",
   "execution_count": 42,
   "id": "08ac0642",
   "metadata": {
    "scrolled": true
   },
   "outputs": [],
   "source": [
    "df.dropna(subset=['acceleration_speed','top_speed'], inplace=True)"
   ]
  },
  {
   "cell_type": "code",
   "execution_count": 43,
   "id": "4d93ad12",
   "metadata": {},
   "outputs": [
    {
     "data": {
      "text/plain": [
       "(170, 9)"
      ]
     },
     "execution_count": 43,
     "metadata": {},
     "output_type": "execute_result"
    }
   ],
   "source": [
    "df.shape"
   ]
  },
  {
   "cell_type": "code",
   "execution_count": 44,
   "id": "dc1748d4",
   "metadata": {},
   "outputs": [
    {
     "data": {
      "text/html": [
       "<div>\n",
       "<style scoped>\n",
       "    .dataframe tbody tr th:only-of-type {\n",
       "        vertical-align: middle;\n",
       "    }\n",
       "\n",
       "    .dataframe tbody tr th {\n",
       "        vertical-align: top;\n",
       "    }\n",
       "\n",
       "    .dataframe thead th {\n",
       "        text-align: right;\n",
       "    }\n",
       "</style>\n",
       "<table border=\"1\" class=\"dataframe\">\n",
       "  <thead>\n",
       "    <tr style=\"text-align: right;\">\n",
       "      <th></th>\n",
       "      <th>price</th>\n",
       "      <th>CC</th>\n",
       "      <th>mileage</th>\n",
       "      <th>weight_in_kg</th>\n",
       "      <th>acceleration_speed</th>\n",
       "      <th>top_speed</th>\n",
       "    </tr>\n",
       "    <tr>\n",
       "      <th>type_of_bike</th>\n",
       "      <th></th>\n",
       "      <th></th>\n",
       "      <th></th>\n",
       "      <th></th>\n",
       "      <th></th>\n",
       "      <th></th>\n",
       "    </tr>\n",
       "  </thead>\n",
       "  <tbody>\n",
       "    <tr>\n",
       "      <th>Electric Bike</th>\n",
       "      <td>99898.093750</td>\n",
       "      <td>NaN</td>\n",
       "      <td>131.406250</td>\n",
       "      <td>107.875000</td>\n",
       "      <td>6.166562</td>\n",
       "      <td>72.312500</td>\n",
       "    </tr>\n",
       "    <tr>\n",
       "      <th>Petrol Bike</th>\n",
       "      <td>155588.550725</td>\n",
       "      <td>210.47971</td>\n",
       "      <td>47.331739</td>\n",
       "      <td>143.833333</td>\n",
       "      <td>3.735870</td>\n",
       "      <td>118.041522</td>\n",
       "    </tr>\n",
       "  </tbody>\n",
       "</table>\n",
       "</div>"
      ],
      "text/plain": [
       "                       price         CC     mileage  weight_in_kg  \\\n",
       "type_of_bike                                                        \n",
       "Electric Bike   99898.093750        NaN  131.406250    107.875000   \n",
       "Petrol Bike    155588.550725  210.47971   47.331739    143.833333   \n",
       "\n",
       "               acceleration_speed   top_speed  \n",
       "type_of_bike                                   \n",
       "Electric Bike            6.166562   72.312500  \n",
       "Petrol Bike              3.735870  118.041522  "
      ]
     },
     "execution_count": 44,
     "metadata": {},
     "output_type": "execute_result"
    }
   ],
   "source": [
    "df.groupby('type_of_bike').mean()"
   ]
  },
  {
   "cell_type": "code",
   "execution_count": 45,
   "id": "3839fff7",
   "metadata": {
    "scrolled": false
   },
   "outputs": [
    {
     "name": "stdout",
     "output_type": "stream",
     "text": [
      "Costly 5 Electric Bike \n",
      "                  model_name   price  CC  mileage  acceleration_speed  \\\n",
      "14          One Moto Electa  199000 NaN    150.0                 3.3   \n",
      "53                TVS iQube  166358 NaN     75.0                 4.2   \n",
      "15            Odysse Evoqis  157000 NaN    140.0                 4.2   \n",
      "20                EeVe Soul  140000 NaN    120.0                 8.0   \n",
      "13  Kabira Mobility KM 4000  136990 NaN    150.0                 3.1   \n",
      "\n",
      "    top_speed  \n",
      "14       85.0  \n",
      "53       78.0  \n",
      "15       80.0  \n",
      "20       55.0  \n",
      "13      120.0  \n",
      "\n",
      " High Mileage Electric Bike \n",
      "               model_name   price  CC  mileage  acceleration_speed  top_speed\n",
      "0  Gravton Motors Quanta   99000 NaN    320.0                 4.2       70.0\n",
      "1      Simple Energy One  109999 NaN    236.0                 3.6      100.0\n",
      "3     Oben Electric Rorr  102999 NaN    200.0                 3.0      100.0\n",
      "4        Ola Electric S1   85099 NaN    181.0                 2.9      116.0\n",
      "5    Ola Electric S1 Pro  120149 NaN    181.0                 2.9      116.0\n",
      "\n",
      " Costly 5 Petrol Bike \n",
      "                   model_name   price     CC  mileage  acceleration_speed  \\\n",
      "191             BMW C 400 GT  995000  350.0    28.60                 3.0   \n",
      "194  Triumph Bonneville T100  949000  900.0    26.30                 1.6   \n",
      "190             Honda CB500X  687386  471.0    28.60                 1.7   \n",
      "177          Benelli TRK 502  486000  500.0    30.97                 2.0   \n",
      "197       FB Mondial HPS 300  337000  249.0    26.00                 3.0   \n",
      "\n",
      "     top_speed  \n",
      "191      139.0  \n",
      "194      160.0  \n",
      "190      182.0  \n",
      "177      160.0  \n",
      "197      141.0  \n",
      "\n",
      " High Mileage Petrol Bike \n",
      "             model_name  price     CC  mileage  acceleration_speed  top_speed\n",
      "26        Bajaj CT 110  46413  115.0    104.0                 3.0       90.0\n",
      "32   Bajaj Platina 100  52915  102.0     96.9                 3.0       90.0\n",
      "34        Bajaj CT 100  40794  102.0     89.5                 3.3       90.0\n",
      "35  Hero HF Deluxe i3s  59800   97.2     88.5                 3.6       90.0\n",
      "36     TVS Star City +  65865  109.7     86.0                 3.2       90.0\n"
     ]
    }
   ],
   "source": [
    "def top_bikes(df, bike_type, sort_by, num_rows):\n",
    "    df1 = df[df['type_of_bike'] == bike_type][['model_name','price','CC','mileage','acceleration_speed','top_speed']]\n",
    "    df_sorted = df1.sort_values(sort_by, ascending=False).head(num_rows)\n",
    "    return df_sorted\n",
    "\n",
    "print('Costly 5 Electric Bike \\n',top_bikes(df, 'Electric Bike', 'price', 5))\n",
    "print('\\n High Mileage Electric Bike \\n',top_bikes(df, 'Electric Bike', 'mileage', 5))\n",
    "print('\\n Costly 5 Petrol Bike \\n',top_bikes(df, 'Petrol Bike', 'price', 5))\n",
    "print('\\n High Mileage Petrol Bike \\n',top_bikes(df, 'Petrol Bike', 'mileage', 5))"
   ]
  },
  {
   "cell_type": "code",
   "execution_count": 46,
   "id": "2b018354",
   "metadata": {},
   "outputs": [
    {
     "name": "stdout",
     "output_type": "stream",
     "text": [
      "\n",
      " Cheap 5 Electric Bike \n",
      "                  model_name  price  CC  mileage  acceleration_speed  top_speed\n",
      "41       Bounce Infinity E1  45099 NaN     83.0                 8.0       65.0\n",
      "43  Hero Electric Optima HX  55580 NaN     82.0                 8.0       42.0\n",
      "58             Odysse Racer  59500 NaN     70.0                 8.0       45.0\n",
      "37   Hero Electric Flash LX  59640 NaN     85.0                10.0       42.0\n",
      "59                BGauss B8  62999 NaN     70.0                11.0       50.0\n",
      "\n",
      " Low Mileage Electric Bike \n",
      "            model_name   price  CC  mileage  acceleration_speed  top_speed\n",
      "61        Ampere Zeal   74490 NaN     70.0                13.8       55.0\n",
      "58       Odysse Racer   59500 NaN     70.0                 8.0       45.0\n",
      "59          BGauss B8   62999 NaN     70.0                11.0       50.0\n",
      "53          TVS iQube  166358 NaN     75.0                 4.2       78.0\n",
      "52  Ampere Magnus Pro   79966 NaN     75.0                10.0       55.0\n",
      "\n",
      " Cheap 5 Petrol Bike \n",
      "         model_name  price     CC  mileage  acceleration_speed  top_speed\n",
      "34    Bajaj CT 100  40794  102.0     89.5                 3.3       90.0\n",
      "64      TVS XL 100  40990   99.7     67.0                13.0       60.0\n",
      "26    Bajaj CT 110  46413  115.0    104.0                 3.0       90.0\n",
      "42  Hero HF Deluxe  48950   97.2     83.0                 7.0       85.0\n",
      "57     Hero HF 100  49400   97.2     70.0                 7.7       90.0\n",
      "\n",
      " Low Mileage Petrol Bike \n",
      "                            model_name   price     CC  mileage  \\\n",
      "199  Royal Enfield Continental GT 650  298079  648.0     25.5   \n",
      "198     Royal Enfield Interceptor 650  281518  648.0     25.5   \n",
      "196                Kawasaki Ninja 300  337000  296.0     26.0   \n",
      "197                FB Mondial HPS 300  337000  249.0     26.0   \n",
      "195                     Kawasaki Z250  308000  249.0     26.0   \n",
      "\n",
      "     acceleration_speed  top_speed  \n",
      "199                1.79      161.0  \n",
      "198                1.90      170.0  \n",
      "196                2.01      182.0  \n",
      "197                3.00      141.0  \n",
      "195                1.01      200.0  \n"
     ]
    }
   ],
   "source": [
    "def bottom_bikes(df, bike_type, sort_by, num_rows):\n",
    "    df1 = df[df['type_of_bike'] == bike_type][['model_name','price','CC','mileage','acceleration_speed','top_speed']]\n",
    "    df_sorted = df1.sort_values(sort_by).head(num_rows)\n",
    "    return df_sorted\n",
    "\n",
    "print('\\n Cheap 5 Electric Bike \\n',bottom_bikes(df, 'Electric Bike', 'price', 5))\n",
    "print('\\n Low Mileage Electric Bike \\n',bottom_bikes(df, 'Electric Bike', 'mileage', 5))\n",
    "print('\\n Cheap 5 Petrol Bike \\n',bottom_bikes(df, 'Petrol Bike', 'price', 5))\n",
    "print('\\n Low Mileage Petrol Bike \\n',bottom_bikes(df, 'Petrol Bike', 'mileage', 5))"
   ]
  },
  {
   "cell_type": "code",
   "execution_count": 47,
   "id": "b5a91e9f",
   "metadata": {
    "scrolled": false
   },
   "outputs": [
    {
     "name": "stdout",
     "output_type": "stream",
     "text": [
      "\n",
      "Top 5 Electric Bike bikes sorted by price:\n",
      "                 model_name  price  CC  mileage  acceleration_speed  top_speed\n",
      "41       Bounce Infinity E1  45099 NaN     83.0                 8.0       65.0\n",
      "43  Hero Electric Optima HX  55580 NaN     82.0                 8.0       42.0\n",
      "58             Odysse Racer  59500 NaN     70.0                 8.0       45.0\n",
      "37   Hero Electric Flash LX  59640 NaN     85.0                10.0       42.0\n",
      "59                BGauss B8  62999 NaN     70.0                11.0       50.0\n",
      "\n",
      "Top 5 Electric Bike bikes sorted by mileage:\n",
      "              model_name   price  CC  mileage  acceleration_speed  top_speed\n",
      "0  Gravton Motors Quanta   99000 NaN    320.0                 4.2       70.0\n",
      "1      Simple Energy One  109999 NaN    236.0                 3.6      100.0\n",
      "3     Oben Electric Rorr  102999 NaN    200.0                 3.0      100.0\n",
      "4        Ola Electric S1   85099 NaN    181.0                 2.9      116.0\n",
      "5    Ola Electric S1 Pro  120149 NaN    181.0                 2.9      116.0\n",
      "\n",
      "Top 5 Petrol Bike bikes sorted by price:\n",
      "        model_name  price     CC  mileage  acceleration_speed  top_speed\n",
      "34    Bajaj CT 100  40794  102.0     89.5                 3.3       90.0\n",
      "64      TVS XL 100  40990   99.7     67.0                13.0       60.0\n",
      "26    Bajaj CT 110  46413  115.0    104.0                 3.0       90.0\n",
      "42  Hero HF Deluxe  48950   97.2     83.0                 7.0       85.0\n",
      "57     Hero HF 100  49400   97.2     70.0                 7.7       90.0\n",
      "\n",
      "Top 5 Petrol Bike bikes sorted by mileage:\n",
      "            model_name  price     CC  mileage  acceleration_speed  top_speed\n",
      "26        Bajaj CT 110  46413  115.0    104.0                 3.0       90.0\n",
      "32   Bajaj Platina 100  52915  102.0     96.9                 3.0       90.0\n",
      "34        Bajaj CT 100  40794  102.0     89.5                 3.3       90.0\n",
      "35  Hero HF Deluxe i3s  59800   97.2     88.5                 3.6       90.0\n",
      "36     TVS Star City +  65865  109.7     86.0                 3.2       90.0\n"
     ]
    }
   ],
   "source": [
    "bikes = ['Electric Bike', 'Petrol Bike']\n",
    "columns = ['model_name', 'price', 'CC', 'mileage', 'acceleration_speed', 'top_speed']\n",
    "sort_by = ['price', 'mileage']\n",
    "\n",
    "for bike in bikes:\n",
    "    for sort in sort_by:\n",
    "        df1 = df[df['type_of_bike'] == bike][columns]\n",
    "        sorted_df = df1.sort_values(sort, ascending=sort=='price').head(5)\n",
    "        print(f\"\\nTop 5 {bike} bikes sorted by {sort}:\")\n",
    "        print(sorted_df)\n"
   ]
  },
  {
   "cell_type": "code",
   "execution_count": 48,
   "id": "2d7c6ea9",
   "metadata": {},
   "outputs": [
    {
     "data": {
      "image/png": "[encoded data removed]",
      "text/plain": [
       "<Figure size 1440x720 with 6 Axes>"
      ]
     },
     "metadata": {},
     "output_type": "display_data"
    }
   ],
   "source": [
    "dfcont=df[['price','CC' ,'mileage','weight_in_kg','acceleration_speed','top_speed']]\n",
    "\n",
    "plt.figure(figsize=(20,10), facecolor='HoneyDew')\n",
    "plotnumber=1\n",
    "\n",
    "for column in dfcont:\n",
    "    if plotnumber <=6:\n",
    "        ax=plt.subplot(1,6,plotnumber)\n",
    "        sns.boxplot(y=dfcont[column])\n",
    "        plt.xlabel(column.upper(),fontsize=15)\n",
    "        plt.ylabel('')\n",
    "        \n",
    "    plotnumber+=1\n",
    "\n",
    "plt.show()"
   ]
  },
  {
   "cell_type": "code",
   "execution_count": 49,
   "id": "0d8e369d",
   "metadata": {},
   "outputs": [],
   "source": [
    "def remove_outliers(df, columns, method='iqr', lower=0.01, upper=0.99):\n",
    "    if method == 'iqr':\n",
    "        Q1 = df[columns].quantile(lower)\n",
    "        Q3 = df[columns].quantile(upper)\n",
    "        IQR = Q3 - Q1\n",
    "        lower_bound = (Q1 - 1.5 * IQR)\n",
    "        upper_bound = (Q3 + 1.5 * IQR)\n",
    "    elif method == 'std':\n",
    "        mean = df[columns].mean()\n",
    "        std = df[columns].std()\n",
    "        lower_bound = mean - 3 * std\n",
    "        upper_bound = mean + 3 * std\n",
    "    else:\n",
    "        raise ValueError('Method not recognized')\n",
    "\n",
    "    for col in columns:\n",
    "        df = df[(df[col] >= lower_bound[col]) & (df[col] <= upper_bound[col])]\n",
    "\n",
    "    return df\n",
    "\n",
    "num_col= ['price','mileage','weight_in_kg','acceleration_speed','top_speed']\n",
    "df =remove_outliers(df, columns=num_col, method='iqr' )"
   ]
  },
  {
   "cell_type": "code",
   "execution_count": 33,
   "id": "0866e921",
   "metadata": {
    "scrolled": false
   },
   "outputs": [
    {
     "data": {
      "image/png": "[encoded data removed]",
      "text/plain": [
       "<Figure size 576x576 with 1 Axes>"
      ]
     },
     "metadata": {},
     "output_type": "display_data"
    }
   ],
   "source": [
    "plt.figure(figsize=(8,8), facecolor='slategrey')\n",
    "sns.countplot(x=df[\"type_of_bike\"])\n",
    "plt.title('Count Plot', fontsize=15)\n",
    "plt.xlabel('Type of Bike', fontsize=15)\n",
    "plt.ylabel('')\n",
    "plt.show()"
   ]
  },
  {
   "cell_type": "code",
   "execution_count": 51,
   "id": "428b2c57",
   "metadata": {
    "scrolled": false
   },
   "outputs": [
    {
     "data": {
      "image/png": "[encoded data removed]",
      "text/plain": [
       "<Figure size 1440x720 with 6 Axes>"
      ]
     },
     "metadata": {},
     "output_type": "display_data"
    }
   ],
   "source": [
    "dfcont=df[['price','CC' ,'mileage','weight_in_kg','acceleration_speed','top_speed']]\n",
    "\n",
    "plt.figure(figsize=(20,10), facecolor='sandybrown')\n",
    "plotnumber=1\n",
    "\n",
    "for column in dfcont:\n",
    "    if plotnumber <=6:\n",
    "        ax=plt.subplot(1,6,plotnumber)\n",
    "        sns.boxenplot(y=dfcont[column], color='limegreen')\n",
    "        plt.xlabel(column.upper(),fontsize=15)\n",
    "        plt.ylabel('')\n",
    "    plotnumber+=1\n",
    "\n",
    "plt.tight_layout()\n",
    "plt.show()\n"
   ]
  },
  {
   "cell_type": "code",
   "execution_count": null,
   "id": "1e4ce893",
   "metadata": {},
   "outputs": [],
   "source": [
    "dfcont = df[['price', 'CC', 'mileage', 'weight_in_kg', 'acceleration_speed', 'top_speed']]\n",
    "\n",
    "fig, axes = plt.subplots(1, 6, figsize=(20, 5), sharey=True)\n",
    "fig.suptitle('Boxplots of Numeric Features', fontsize=20)\n",
    "\n",
    "for i, column in enumerate(dfcont):\n",
    "    sns.boxplot(y=dfcont[column], ax=axes[i])\n",
    "    axes[i].set_xlabel(column.upper(), fontsize=15)\n",
    "    axes[i].set_ylabel('')\n",
    "    axes[i].tick_params(axis='x', labelrotation=45)\n",
    "    \n",
    "plt.tight_layout()\n",
    "plt.show()\n"
   ]
  },
  {
   "cell_type": "code",
   "execution_count": null,
   "id": "fed417f3",
   "metadata": {
    "scrolled": false
   },
   "outputs": [],
   "source": [
    "dfcont=df[['price','CC' ,'mileage','weight_in_kg','acceleration_speed','top_speed']]\n",
    "\n",
    "plt.figure(figsize=(20,20), facecolor='dodgerblue')\n",
    "plotnumber=1\n",
    "\n",
    "for column in dfcont:\n",
    "    if plotnumber <=6:\n",
    "        ax=plt.subplot(3,2,plotnumber)\n",
    "        sns.histplot(x=dfcont[column],hue=df['type_of_bike'],multiple=\"stack\" ,palette='hot' )\n",
    "        plt.xlabel(column.upper(),fontsize=15)\n",
    "        plt.ylabel('')\n",
    "    plotnumber+=1\n",
    "plt.show()"
   ]
  },
  {
   "cell_type": "code",
   "execution_count": null,
   "id": "342ab533",
   "metadata": {},
   "outputs": [],
   "source": [
    "plt.figure(figsize=(20,20), facecolor='orchid')\n",
    "plotnumber=1\n",
    "\n",
    "for column in dfcont:\n",
    "    if plotnumber <=6:\n",
    "        ax=plt.subplot(3,2,plotnumber)\n",
    "        sns.boxplot(x=dfcont[column], y=df.type_of_bike,palette='afmhot')\n",
    "        plt.xlabel(column.upper(),fontsize=15)\n",
    "        plt.ylabel('Type of Bike',fontsize=15)\n",
    "    plotnumber+=1\n",
    "plt.show()"
   ]
  },
  {
   "cell_type": "code",
   "execution_count": null,
   "id": "1a9d916a",
   "metadata": {},
   "outputs": [],
   "source": [
    "dfcont1=df[['CC' ,'mileage','weight_in_kg','acceleration_speed','top_speed']]\n",
    "\n",
    "plt.figure(figsize=(20,20), facecolor='SandyBrown')\n",
    "plotnumber=1\n",
    "\n",
    "for column in dfcont1:\n",
    "    if plotnumber <=5:\n",
    "        ax=plt.subplot(3,2,plotnumber)\n",
    "        sns.scatterplot(x=dfcont1[column], y=df.price, hue= df.type_of_bike, palette='prism' )\n",
    "        plt.xlabel(column.upper(),fontsize=15)\n",
    "        plt.ylabel('Price',fontsize=15)\n",
    "    plotnumber+=1\n",
    "plt.show()"
   ]
  },
  {
   "cell_type": "code",
   "execution_count": null,
   "id": "5acb329a",
   "metadata": {},
   "outputs": [],
   "source": [
    "dfcont1 = df[['CC' ,'mileage','weight_in_kg','acceleration_speed','top_speed']]\n",
    "\n",
    "fig, axs = plt.subplots(3, 2, figsize=(20, 20), facecolor='SandyBrown')\n",
    "fig.suptitle('Scatterplot of Bike Features by Price and Type of Bike', fontsize=20)\n",
    "\n",
    "for i, column in enumerate(dfcont1.columns):\n",
    "    row = i // 2\n",
    "    col = i % 2\n",
    "    ax = axs[row, col]\n",
    "    sns.scatterplot(x=column, y='price', hue='type_of_bike', data=df, palette='prism', ax=ax)\n",
    "    ax.set_xlabel(column.upper(), fontsize=15)\n",
    "    ax.set_ylabel('Price', fontsize=15)\n",
    "\n",
    "fig.text(0.5, 0.05, 'Bike Features', ha='center', fontsize=15)\n",
    "plt.show()\n"
   ]
  },
  {
   "cell_type": "code",
   "execution_count": null,
   "id": "e0d6393d",
   "metadata": {},
   "outputs": [],
   "source": [
    "plt.figure(figsize=(20,20), facecolor='Plum')\n",
    "plotnumber=1\n",
    "\n",
    "for column in dfcont:\n",
    "    if plotnumber <=6:\n",
    "        ax=plt.subplot(3,2,plotnumber)\n",
    "        sns.violinplot(x=dfcont[column],y=df.type_of_bike, palette='OrRd')\n",
    "        plt.xlabel(column.upper(),fontsize=15)\n",
    "        plt.ylabel('Type of Bike', fontsize=15)\n",
    "    plotnumber+=1\n",
    "plt.show()"
   ]
  },
  {
   "cell_type": "code",
   "execution_count": null,
   "id": "072f8dd1",
   "metadata": {
    "scrolled": false
   },
   "outputs": [],
   "source": [
    "plt.figure(figsize=(20,20), facecolor='LemonChiffon')\n",
    "plotnumber=1\n",
    "\n",
    "for column in dfcont:\n",
    "    if plotnumber <=6:\n",
    "        ax=plt.subplot(3,2,plotnumber)\n",
    "        sns.swarmplot(x=dfcont[column],y=df.type_of_bike, hue=df.type_of_bike, palette=\"deep\", size=5)\n",
    "        plt.xlabel(column.upper(),fontsize=15)\n",
    "        plt.ylabel('Type of Bike', fontsize=15)\n",
    "    plotnumber+=1\n",
    "plt.show()"
   ]
  },
  {
   "cell_type": "code",
   "execution_count": null,
   "id": "ef5addf2",
   "metadata": {},
   "outputs": [],
   "source": [
    "plt.figure(figsize=(20,20), facecolor='lightskyblue')\n",
    "plotnumber=1\n",
    "\n",
    "for column in dfcont:\n",
    "    if plotnumber <=6:\n",
    "        ax=plt.subplot(3,2,plotnumber)\n",
    "        sns.stripplot(x=dfcont[column],y=df.type_of_bike,hue=df.type_of_bike, palette=\"gnuplot\")\n",
    "        plt.ylabel('Type of Bike', fontsize=15)\n",
    "    plotnumber+=1\n",
    "plt.show()"
   ]
  },
  {
   "cell_type": "code",
   "execution_count": null,
   "id": "85974954",
   "metadata": {},
   "outputs": [],
   "source": [
    "plt.figure(figsize=(10,10), facecolor='Chocolate')\n",
    "sns.heatmap(df.corr(), annot=True, linewidths=0.2, cmap='gist_earth')\n",
    "plt.title('Heat Map')\n",
    "plt.show()"
   ]
  },
  {
   "cell_type": "code",
   "execution_count": null,
   "id": "1644f659",
   "metadata": {},
   "outputs": [],
   "source": [
    "sns.clustermap(df.corr(), annot=True, linewidths=0.2, cmap='ocean')\n",
    "plt.title('Cluster Map')\n",
    "plt.show()"
   ]
  },
  {
   "cell_type": "code",
   "execution_count": null,
   "id": "7811a3f1",
   "metadata": {
    "scrolled": false
   },
   "outputs": [],
   "source": [
    "g=sns.pairplot(df)\n",
    "g.tick_params(labelsize=15)\n",
    "plt.show()"
   ]
  },
  {
   "cell_type": "code",
   "execution_count": null,
   "id": "3d633a18",
   "metadata": {},
   "outputs": [],
   "source": [
    "g=sns.pairplot(df, kind=\"hist\")\n",
    "g.tick_params(labelsize=15)\n",
    "plt.show()"
   ]
  },
  {
   "cell_type": "code",
   "execution_count": null,
   "id": "32c86207",
   "metadata": {},
   "outputs": [],
   "source": [
    "g = sns.pairplot(df, diag_kind=\"kde\")\n",
    "g.map_lower(sns.kdeplot, levels=4, color=\".2\")\n",
    "g.tick_params(labelsize=15)\n",
    "plt.show()"
   ]
  },
  {
   "cell_type": "code",
   "execution_count": null,
   "id": "e11c8f68",
   "metadata": {},
   "outputs": [],
   "source": [
    "g = sns.PairGrid(df, hue='type_of_bike')\n",
    "g.map_upper(sns.scatterplot)\n",
    "g.map_lower(sns.kdeplot)\n",
    "g.map_diag(sns.histplot, multiple=\"stack\" )\n",
    "g.add_legend(title=\"\", adjust_subtitles=True, fontsize=15)\n",
    "g.tick_params(labelsize=15)\n",
    "plt.show()"
   ]
  },
  {
   "cell_type": "code",
   "execution_count": null,
   "id": "9390aa39",
   "metadata": {},
   "outputs": [],
   "source": [
    "g = sns.PairGrid(df, hue='type_of_bike')\n",
    "g.map_upper(sns.scatterplot)\n",
    "g.map_lower(sns.kdeplot, levels=4, color=\".2\")\n",
    "g.map_diag(sns.histplot, multiple=\"stack\")\n",
    "g.add_legend(title=\"\", adjust_subtitles=True, fontsize=15)\n",
    "g.fig.suptitle('Pairwise Relationships by Bike Type', fontsize=20)\n",
    "g.tick_params(labelsize=15)\n",
    "plt.show()\n"
   ]
  }
 ],
 "metadata": {
  "kernelspec": {
   "display_name": "Python 3 (ipykernel)",
   "language": "python",
   "name": "python3"
  },
  "language_info": {
   "codemirror_mode": {
    "name": "ipython",
    "version": 3
   },
   "file_extension": ".py",
   "mimetype": "text/x-python",
   "name": "python",
   "nbconvert_exporter": "python",
   "pygments_lexer": "ipython3",
   "version": "3.10.9"
  }
 },
 "nbformat": 4,
 "nbformat_minor": 5
}
