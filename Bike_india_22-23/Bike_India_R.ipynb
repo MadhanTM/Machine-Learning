{
 "cells": [
  {
   "cell_type": "code",
   "execution_count": 1,
   "id": "3b1db8c3",
   "metadata": {},
   "outputs": [],
   "source": [
    "df = read.csv('bike_dataset.csv')\n"
   ]
  },
  {
   "cell_type": "code",
   "execution_count": 2,
   "id": "4f9525f6",
   "metadata": {},
   "outputs": [
    {
     "data": {
      "text/html": [
       "<table>\n",
       "<thead><tr><th scope=col>model_name</th><th scope=col>price</th><th scope=col>CC</th><th scope=col>mileage</th><th scope=col>type_of_bike</th><th scope=col>weight_in_kg</th><th scope=col>links</th><th scope=col>acceleration_speed</th><th scope=col>top_speed</th></tr></thead>\n",
       "<tbody>\n",
       "\t<tr><td>Gravton Motors Quanta                                 </td><td> 99000                                                </td><td>N/A                                                   </td><td>320                                                   </td><td>Electric Bike                                         </td><td>100                                                   </td><td>https://www.carandbike.com/gravton-motors-bikes/quanta</td><td>4.2                                                   </td><td> 70                                                   </td></tr>\n",
       "\t<tr><td>Simple Energy One                                     </td><td>109999                                                </td><td>N/A                                                   </td><td>236                                                   </td><td>Electric Bike                                         </td><td>110                                                   </td><td>https://www.carandbike.com/simple-energy-bikes/one    </td><td>3.6                                                   </td><td>100                                                   </td></tr>\n",
       "\t<tr><td>Okaya Classiq                                         </td><td> 69900                                                </td><td>N/A                                                   </td><td>200                                                   </td><td>Electric Bike                                         </td><td> 95                                                   </td><td>https://www.carandbike.com/okaya-bikes/classiq        </td><td>N/A                                                   </td><td> 25                                                   </td></tr>\n",
       "\t<tr><td>Oben Electric Rorr                                    </td><td>102999                                                </td><td>N/A                                                   </td><td>200                                                   </td><td>Electric Bike                                         </td><td>120                                                   </td><td>https://www.carandbike.com/oben-electric-bikes/rorr   </td><td>3                                                     </td><td>100                                                   </td></tr>\n",
       "\t<tr><td>Ola Electric S1                                       </td><td> 85099                                                </td><td>N/A                                                   </td><td>181                                                   </td><td>Electric Bike                                         </td><td>121                                                   </td><td>https://www.carandbike.com/ola-electric-bikes/s1      </td><td>2.9                                                   </td><td>116                                                   </td></tr>\n",
       "</tbody>\n",
       "</table>\n"
      ],
      "text/latex": [
       "\\begin{tabular}{r|lllllllll}\n",
       " model\\_name & price & CC & mileage & type\\_of\\_bike & weight\\_in\\_kg & links & acceleration\\_speed & top\\_speed\\\\\n",
       "\\hline\n",
       "\t Gravton Motors Quanta                                  &  99000                                                 & N/A                                                    & 320                                                    & Electric Bike                                          & 100                                                    & https://www.carandbike.com/gravton-motors-bikes/quanta & 4.2                                                    &  70                                                   \\\\\n",
       "\t Simple Energy One                                      & 109999                                                 & N/A                                                    & 236                                                    & Electric Bike                                          & 110                                                    & https://www.carandbike.com/simple-energy-bikes/one     & 3.6                                                    & 100                                                   \\\\\n",
       "\t Okaya Classiq                                          &  69900                                                 & N/A                                                    & 200                                                    & Electric Bike                                          &  95                                                    & https://www.carandbike.com/okaya-bikes/classiq         & N/A                                                    &  25                                                   \\\\\n",
       "\t Oben Electric Rorr                                     & 102999                                                 & N/A                                                    & 200                                                    & Electric Bike                                          & 120                                                    & https://www.carandbike.com/oben-electric-bikes/rorr    & 3                                                      & 100                                                   \\\\\n",
       "\t Ola Electric S1                                        &  85099                                                 & N/A                                                    & 181                                                    & Electric Bike                                          & 121                                                    & https://www.carandbike.com/ola-electric-bikes/s1       & 2.9                                                    & 116                                                   \\\\\n",
       "\\end{tabular}\n"
      ],
      "text/markdown": [
       "\n",
       "| model_name | price | CC | mileage | type_of_bike | weight_in_kg | links | acceleration_speed | top_speed |\n",
       "|---|---|---|---|---|---|---|---|---|\n",
       "| Gravton Motors Quanta                                  |  99000                                                 | N/A                                                    | 320                                                    | Electric Bike                                          | 100                                                    | https://www.carandbike.com/gravton-motors-bikes/quanta | 4.2                                                    |  70                                                    |\n",
       "| Simple Energy One                                      | 109999                                                 | N/A                                                    | 236                                                    | Electric Bike                                          | 110                                                    | https://www.carandbike.com/simple-energy-bikes/one     | 3.6                                                    | 100                                                    |\n",
       "| Okaya Classiq                                          |  69900                                                 | N/A                                                    | 200                                                    | Electric Bike                                          |  95                                                    | https://www.carandbike.com/okaya-bikes/classiq         | N/A                                                    |  25                                                    |\n",
       "| Oben Electric Rorr                                     | 102999                                                 | N/A                                                    | 200                                                    | Electric Bike                                          | 120                                                    | https://www.carandbike.com/oben-electric-bikes/rorr    | 3                                                      | 100                                                    |\n",
       "| Ola Electric S1                                        |  85099                                                 | N/A                                                    | 181                                                    | Electric Bike                                          | 121                                                    | https://www.carandbike.com/ola-electric-bikes/s1       | 2.9                                                    | 116                                                    |\n",
       "\n"
      ],
      "text/plain": [
       "  model_name            price  CC  mileage type_of_bike  weight_in_kg\n",
       "1 Gravton Motors Quanta  99000 N/A 320     Electric Bike 100         \n",
       "2 Simple Energy One     109999 N/A 236     Electric Bike 110         \n",
       "3 Okaya Classiq          69900 N/A 200     Electric Bike  95         \n",
       "4 Oben Electric Rorr    102999 N/A 200     Electric Bike 120         \n",
       "5 Ola Electric S1        85099 N/A 181     Electric Bike 121         \n",
       "  links                                                  acceleration_speed\n",
       "1 https://www.carandbike.com/gravton-motors-bikes/quanta 4.2               \n",
       "2 https://www.carandbike.com/simple-energy-bikes/one     3.6               \n",
       "3 https://www.carandbike.com/okaya-bikes/classiq         N/A               \n",
       "4 https://www.carandbike.com/oben-electric-bikes/rorr    3                 \n",
       "5 https://www.carandbike.com/ola-electric-bikes/s1       2.9               \n",
       "  top_speed\n",
       "1  70      \n",
       "2 100      \n",
       "3  25      \n",
       "4 100      \n",
       "5 116      "
      ]
     },
     "metadata": {},
     "output_type": "display_data"
    }
   ],
   "source": [
    "head(df, 5)"
   ]
  },
  {
   "cell_type": "code",
   "execution_count": 3,
   "id": "8e4a9a8f",
   "metadata": {},
   "outputs": [
    {
     "name": "stderr",
     "output_type": "stream",
     "text": [
      "Registered S3 methods overwritten by 'ggplot2':\n",
      "  method         from \n",
      "  [.quosures     rlang\n",
      "  c.quosures     rlang\n",
      "  print.quosures rlang\n"
     ]
    },
    {
     "ename": "ERROR",
     "evalue": "Error: Must specify at least one variable to facet by\n",
     "output_type": "error",
     "traceback": [
      "Error: Must specify at least one variable to facet by\nTraceback:\n",
      "1. facet_wrap(~., scales = \"free_y\", ncol = 6)",
      "2. as_facets_list(facets)",
      "3. f_as_facets_list(x)",
      "4. stop(\"Must specify at least one variable to facet by\", call. = FALSE)"
     ]
    }
   ],
   "source": [
    "library(ggplot2)\n",
    "\n",
    "dfcont <- df[,c(\"price\",\"CC\" ,\"mileage\",\"weight_in_kg\",\"acceleration_speed\",\"top_speed\")]\n",
    "\n",
    "p <- ggplot(data = dfcont) +\n",
    "  facet_wrap(~ ., scales = \"free_y\", ncol = 6) +\n",
    "  geom_boxplot() +\n",
    "  labs(x = \"\", y = \"\") +\n",
    "  theme(plot.title = element_text(size = 15, hjust = 0.5),\n",
    "        axis.text.x = element_text(angle = 90, hjust = 1, size = 15))\n",
    "\n",
    "print(p)"
   ]
  },
  {
   "cell_type": "code",
   "execution_count": 7,
   "id": "37a40c2e",
   "metadata": {},
   "outputs": [],
   "source": [
    "df_without_na <- na.omit(df)\n"
   ]
  },
  {
   "cell_type": "code",
   "execution_count": 8,
   "id": "79613c7a",
   "metadata": {},
   "outputs": [
    {
     "ename": "ERROR",
     "evalue": "Error: At least one layer must contain all faceting variables: `variable`.\n* Plot is missing `variable`\n* Layer 1 is missing `variable`\n",
     "output_type": "error",
     "traceback": [
      "Error: At least one layer must contain all faceting variables: `variable`.\n* Plot is missing `variable`\n* Layer 1 is missing `variable`\nTraceback:\n",
      "1. print(p)",
      "2. print.ggplot(p)",
      "3. ggplot_build(x)",
      "4. ggplot_build.ggplot(x)",
      "5. layout$setup(layer_data, plot$data, plot$plot_env)",
      "6. f(..., self = self)",
      "7. self$facet$compute_layout(data, self$facet_params)",
      "8. f(...)",
      "9. plyr::unrowname(combine_vars(data, params$plot_env, vars, drop = params$drop))",
      "10. combine_vars(data, params$plot_env, vars, drop = params$drop)",
      "11. stop(\"At least one layer must contain all faceting variables: \", \n  .     var_list(names(vars)), \".\\n\", paste0(\"* \", name, \" is missing \", \n  .         missing_txt, collapse = \"\\n\"), call. = FALSE)"
     ]
    },
    {
     "data": {
      "image/png": "[encoded data removed]",
      "text/plain": [
       "plot without title"
      ]
     },
     "metadata": {},
     "output_type": "display_data"
    }
   ],
   "source": [
    "library(ggplot2)\n",
    "\n",
    "dfcont <- df[,c(\"price\",\"CC\" ,\"mileage\",\"weight_in_kg\",\"acceleration_speed\",\"top_speed\")]\n",
    "\n",
    "p <- ggplot(data = dfcont) +\n",
    "  facet_wrap(~ variable, scales = \"free_y\", ncol = 6) +\n",
    "  geom_boxplot() +\n",
    "  labs(x = \"\", y = \"\") +\n",
    "  theme(plot.title = element_text(size = 15, hjust = 0.5),\n",
    "        axis.text.x = element_text(angle = 90, hjust = 1, size = 15)) +\n",
    "  ggtitle(paste(\"Boxplot of\", names(dfcont)))\n",
    "\n",
    "print(p)\n"
   ]
  },
  {
   "cell_type": "code",
   "execution_count": null,
   "id": "049086f3",
   "metadata": {},
   "outputs": [],
   "source": []
  }
 ],
 "metadata": {
  "kernelspec": {
   "display_name": "R",
   "language": "R",
   "name": "ir"
  },
  "language_info": {
   "codemirror_mode": "r",
   "file_extension": ".r",
   "mimetype": "text/x-r-source",
   "name": "R",
   "pygments_lexer": "r",
   "version": "3.6.1"
  }
 },
 "nbformat": 4,
 "nbformat_minor": 5
}
